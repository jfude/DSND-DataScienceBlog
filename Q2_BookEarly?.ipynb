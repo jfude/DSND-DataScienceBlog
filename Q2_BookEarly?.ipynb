{
 "cells": [
  {
   "cell_type": "code",
   "execution_count": 1,
   "metadata": {},
   "outputs": [],
   "source": [
    "### 2) Does it pay to book early? This notebook compares a few insideairbnb scrapes from different\n",
    "###    times and shows that this is clearly not the case.\n",
    "###    Specifically, we compare a month of price data as found in a previous month scrape to that of a scrape from\n",
    "###    6 months ago.\n",
    "\n",
    "###    Compare: \n",
    "###     Jun 2019 data from scrapes Dec 2018 and May 2019\n",
    "###     Jul 2019 data from scrapes Dec 2018 and Jun 2019\n",
    "###     Aug 2019 data from scrapes Dec 2018 and Jul 2019\n",
    "###     Sep 2019 data from scrapes Dec 2018 and Aug 2019\n",
    "\n"
   ]
  },
  {
   "cell_type": "code",
   "execution_count": 2,
   "metadata": {},
   "outputs": [],
   "source": [
    "import numpy as np\n",
    "import pandas as pd\n",
    "import pickle\n",
    "from itertools import compress\n",
    "import matplotlib.pyplot as plt\n",
    "from sklearn.linear_model import LinearRegression\n",
    "from sklearn.model_selection import train_test_split\n",
    "from sklearn.metrics import r2_score, mean_squared_error\n",
    "import seaborn as sns\n",
    "%matplotlib inline\n",
    "\n",
    "\n",
    "### Calendar file contains individual date availability going forward \n",
    "###               for a year for each listing\n",
    "### \n",
    "\n",
    "### Load these downloaded scrapes\n",
    "#listings_12_18_df = pd.read_csv('./listings_12_18.csv')\n",
    "\n",
    "## data.insideairbnb.com/united-states/wa/seattle/2019-01-17/data/calendar.csv.gz\n",
    "calendar_01_19_df = pd.read_csv('./calendar_01_19.csv')\n",
    "## data.insideairbnb.com/united-states/wa/seattle/2019-05-18/data/calendar.csv.gz\n",
    "calendar_05_19_df = pd.read_csv('./calendar_05_19.csv')\n",
    "## data.insideairbnb.com/united-states/wa/seattle/2019-06-13/data/calendar.csv.gz\n",
    "calendar_06_19_df = pd.read_csv('./calendar_06_19.csv')\n",
    "## data.insideairbnb.com/united-states/wa/seattle/2019-07-14/data/calendar.csv.gz\n",
    "calendar_07_19_df = pd.read_csv('./calendar_07_19.csv')\n",
    "## data.insideairbnb.com/united-states/wa/seattle/2019-08-18/data/calendar.csv.gz\n",
    "calendar_08_19_df = pd.read_csv('./calendar_08_19.csv')\n",
    "\n",
    "calendar_01_19_df.dropna(inplace = True)\n",
    "calendar_05_19_df.dropna(inplace = True)\n",
    "calendar_06_19_df.dropna(inplace = True)\n",
    "calendar_07_19_df.dropna(inplace = True)\n",
    "calendar_08_19_df.dropna(inplace = True)"
   ]
  },
  {
   "cell_type": "code",
   "execution_count": 3,
   "metadata": {},
   "outputs": [
    {
     "name": "stdout",
     "output_type": "stream",
     "text": [
      "0\n",
      "1\n",
      "2\n",
      "3\n"
     ]
    }
   ],
   "source": [
    "### Clean calendar\n",
    "def clean_calendar(calendar_df):\n",
    "    \n",
    "    calendar_df.date  = pd.to_datetime(calendar_df.date)\n",
    "    #calendar_df.dropna(subset=['price'],how='any',inplace=True)\n",
    "    calendar_df.price = calendar_df.price.astype(str).str.replace('$','')\n",
    "    calendar_df.price = calendar_df.price.astype(str).str.replace(',','').astype('float64')\n",
    "    \n",
    "    ### Can show that only in about 1% of cases adjusted_price is different than price\n",
    "    ### and I don't know how to interpret, so drop this\n",
    "    ### calendar_df.drop(['adjusted_price'],axis=1,inplace=True) \n",
    "    calendar_df.listing_id.astype('int64',inplace = True) \n",
    "    ##calendar_df.rename(columns={'price': ptag},inplace = True)\n",
    "    calendar_df = calendar_df[['listing_id','date','price','minimum_nights','maximum_nights']]\n",
    "    # Restrict to normal price range \n",
    "    calendar_df = calendar_df[calendar_df.price < 400.0]\n",
    "    return calendar_df\n",
    "\n",
    "\n",
    "calendars_orig = [calendar_05_19_df,calendar_06_19_df,calendar_07_19_df,calendar_08_19_df]\n",
    "mnth_label = ['Jun-19','Jul-19','Aug-19','Sep-19']\n",
    "calendars = []\n",
    "\n",
    "calendar_01_19_df = clean_calendar(calendar_01_19_df)\n",
    "for i in range(0,4):\n",
    "    calendars.append(clean_calendar(calendars_orig[i]))\n",
    "\n",
    "calendar_tot_df = pd.DataFrame()\n",
    "for i in range(0,4):\n",
    "    print(i)\n",
    "    calendar_df = pd.merge(calendar_01_19_df,calendars[i], \n",
    "                           on = ['listing_id','date','minimum_nights','maximum_nights'], how='inner')\n",
    "    calendar_df = calendar_df[calendar_df.date.map(lambda x: x.month == (i+6))]\n",
    "    calendar_df[\"month\"] = mnth_label[i]\n",
    "    calendar_df[\"price_diff\"] = calendar_df.price_x - calendar_df.price_y\n",
    "    calendar_tot_df = pd.concat([calendar_tot_df,calendar_df],ignore_index=True)\n"
   ]
  },
  {
   "cell_type": "code",
   "execution_count": 4,
   "metadata": {},
   "outputs": [
    {
     "data": {
      "text/html": [
       "<div>\n",
       "<style scoped>\n",
       "    .dataframe tbody tr th:only-of-type {\n",
       "        vertical-align: middle;\n",
       "    }\n",
       "\n",
       "    .dataframe tbody tr th {\n",
       "        vertical-align: top;\n",
       "    }\n",
       "\n",
       "    .dataframe thead th {\n",
       "        text-align: right;\n",
       "    }\n",
       "</style>\n",
       "<table border=\"1\" class=\"dataframe\">\n",
       "  <thead>\n",
       "    <tr style=\"text-align: right;\">\n",
       "      <th></th>\n",
       "      <th>listing_id</th>\n",
       "      <th>date</th>\n",
       "      <th>price_x</th>\n",
       "      <th>minimum_nights</th>\n",
       "      <th>maximum_nights</th>\n",
       "      <th>price_y</th>\n",
       "      <th>month</th>\n",
       "      <th>price_diff</th>\n",
       "    </tr>\n",
       "  </thead>\n",
       "  <tbody>\n",
       "    <tr>\n",
       "      <th>0</th>\n",
       "      <td>490110</td>\n",
       "      <td>2019-06-01</td>\n",
       "      <td>275.0</td>\n",
       "      <td>3</td>\n",
       "      <td>1125</td>\n",
       "      <td>275.0</td>\n",
       "      <td>Jun-19</td>\n",
       "      <td>0.0</td>\n",
       "    </tr>\n",
       "    <tr>\n",
       "      <th>1</th>\n",
       "      <td>490110</td>\n",
       "      <td>2019-06-02</td>\n",
       "      <td>275.0</td>\n",
       "      <td>3</td>\n",
       "      <td>1125</td>\n",
       "      <td>275.0</td>\n",
       "      <td>Jun-19</td>\n",
       "      <td>0.0</td>\n",
       "    </tr>\n",
       "    <tr>\n",
       "      <th>2</th>\n",
       "      <td>490110</td>\n",
       "      <td>2019-06-03</td>\n",
       "      <td>275.0</td>\n",
       "      <td>3</td>\n",
       "      <td>1125</td>\n",
       "      <td>275.0</td>\n",
       "      <td>Jun-19</td>\n",
       "      <td>0.0</td>\n",
       "    </tr>\n",
       "    <tr>\n",
       "      <th>3</th>\n",
       "      <td>490110</td>\n",
       "      <td>2019-06-04</td>\n",
       "      <td>275.0</td>\n",
       "      <td>3</td>\n",
       "      <td>1125</td>\n",
       "      <td>275.0</td>\n",
       "      <td>Jun-19</td>\n",
       "      <td>0.0</td>\n",
       "    </tr>\n",
       "    <tr>\n",
       "      <th>4</th>\n",
       "      <td>490110</td>\n",
       "      <td>2019-06-05</td>\n",
       "      <td>275.0</td>\n",
       "      <td>3</td>\n",
       "      <td>1125</td>\n",
       "      <td>275.0</td>\n",
       "      <td>Jun-19</td>\n",
       "      <td>0.0</td>\n",
       "    </tr>\n",
       "  </tbody>\n",
       "</table>\n",
       "</div>"
      ],
      "text/plain": [
       "   listing_id       date  price_x  minimum_nights  maximum_nights  price_y  \\\n",
       "0      490110 2019-06-01    275.0               3            1125    275.0   \n",
       "1      490110 2019-06-02    275.0               3            1125    275.0   \n",
       "2      490110 2019-06-03    275.0               3            1125    275.0   \n",
       "3      490110 2019-06-04    275.0               3            1125    275.0   \n",
       "4      490110 2019-06-05    275.0               3            1125    275.0   \n",
       "\n",
       "    month  price_diff  \n",
       "0  Jun-19         0.0  \n",
       "1  Jun-19         0.0  \n",
       "2  Jun-19         0.0  \n",
       "3  Jun-19         0.0  \n",
       "4  Jun-19         0.0  "
      ]
     },
     "execution_count": 4,
     "metadata": {},
     "output_type": "execute_result"
    }
   ],
   "source": [
    "##calendar_tot_df = pd.concat([calendar_tot_df,calendar_df],ignore_index=True)\n",
    "# max(calendars[0].price)\n",
    "# calendar_tot_df.sort_values('price_diff',ascending = True).head(30)\n",
    "calendar_tot_df.head()\n"
   ]
  },
  {
   "cell_type": "code",
   "execution_count": 5,
   "metadata": {},
   "outputs": [
    {
     "name": "stdout",
     "output_type": "stream",
     "text": [
      "(374433, 8)\n",
      "(624417, 8)\n",
      "-312.0\n",
      "320.0\n"
     ]
    },
    {
     "data": {
      "text/plain": [
       "0.599652155530679"
      ]
     },
     "execution_count": 5,
     "metadata": {},
     "output_type": "execute_result"
    }
   ],
   "source": [
    "df = calendar_tot_df[calendar_tot_df.price_diff !=  0.0]\n",
    "df.sort_values('price_diff',ascending = True,inplace = True)\n",
    "print(df.shape)\n",
    "print(calendar_tot_df.shape)\n",
    "min(df.date)\n",
    "print(min(df.price_diff))\n",
    "print(max(df.price_diff))\n",
    "df.head()\n",
    "\n",
    "df.shape[0]/calendar_tot_df.shape[0] ### 60% have non-zero price difference"
   ]
  },
  {
   "cell_type": "code",
   "execution_count": 6,
   "metadata": {},
   "outputs": [
    {
     "data": {
      "text/plain": [
       "<matplotlib.text.Text at 0x14371a400>"
      ]
     },
     "execution_count": 6,
     "metadata": {},
     "output_type": "execute_result"
    },
    {
     "data": {
      "image/png": "[encoded data removed]",
      "text/plain": [
       "<matplotlib.figure.Figure at 0x143747160>"
      ]
     },
     "metadata": {},
     "output_type": "display_data"
    }
   ],
   "source": [
    "\n",
    "sns.set(font_scale=1.3)\n",
    "ax = sns.distplot(df['price_diff'],bins=40,color = 'blue')\n",
    "ax.set_xlabel(\"Early - Late Booking Price\")"
   ]
  },
  {
   "cell_type": "code",
   "execution_count": 7,
   "metadata": {},
   "outputs": [
    {
     "data": {
      "text/plain": [
       "<seaborn.axisgrid.FacetGrid at 0x139e73978>"
      ]
     },
     "execution_count": 7,
     "metadata": {},
     "output_type": "execute_result"
    },
    {
     "data": {
      "image/png": "[encoded data removed]",
      "text/plain": [
       "<matplotlib.figure.Figure at 0x10c6cf6d8>"
      ]
     },
     "metadata": {},
     "output_type": "display_data"
    }
   ],
   "source": [
    "sns.catplot(x= 'month', y = 'price_diff', data=df)"
   ]
  }
 ],
 "metadata": {
  "kernelspec": {
   "display_name": "Python 3",
   "language": "python",
   "name": "python3"
  },
  "language_info": {
   "codemirror_mode": {
    "name": "ipython",
    "version": 3
   },
   "file_extension": ".py",
   "mimetype": "text/x-python",
   "name": "python",
   "nbconvert_exporter": "python",
   "pygments_lexer": "ipython3",
   "version": "3.6.9"
  }
 },
 "nbformat": 4,
 "nbformat_minor": 2
}
